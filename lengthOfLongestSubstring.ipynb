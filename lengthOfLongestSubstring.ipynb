{
 "cells": [
  {
   "cell_type": "code",
   "execution_count": 2,
   "id": "4f2cba06",
   "metadata": {},
   "outputs": [],
   "source": [
    "#  Longest Substring Without Repeating Characters\n",
    "# Solved using two pointers"
   ]
  },
  {
   "cell_type": "code",
   "execution_count": 5,
   "id": "aa1b374c",
   "metadata": {},
   "outputs": [
    {
     "name": "stdout",
     "output_type": "stream",
     "text": [
      "{'O': 6, 'D': 7, 'E': 8, 'B': 9, 'A': 10, 'N': 11, 'C': 12}\n",
      "7\n"
     ]
    }
   ],
   "source": [
    "def lengthOfLongestSubstring(s: str) -> int:\n",
    "    l = len(s)                       \n",
    "    start = 0\n",
    "    end = 0\n",
    "    max_len = 0                        \n",
    "\n",
    "    hash_table = {}\n",
    "\n",
    "    while start < l:                    \n",
    "        if s[start] not in hash_table:\n",
    "            hash_table[s[start]] = start    \n",
    "            curr_len = (start-end) + 1                \n",
    "            max_len = max(max_len,curr_len)                          \n",
    "            start += 1                        \n",
    "        else:\n",
    "            while s[start] in hash_table:\n",
    "                hash_table.pop(s[end])\n",
    "                end += 1\n",
    "            hash_table[s[start]] = start\n",
    "            start += 1\n",
    "    print(hash_table)\n",
    "    return max_len\n",
    "\n",
    "if __name__ == '__main__':\n",
    "    s = 'ADOBECODEBANC'\n",
    "    print(lengthOfLongestSubstring(s))"
   ]
  },
  {
   "cell_type": "code",
   "execution_count": null,
   "id": "edab64bc",
   "metadata": {},
   "outputs": [],
   "source": []
  }
 ],
 "metadata": {
  "kernelspec": {
   "display_name": "Python 3 (ipykernel)",
   "language": "python",
   "name": "python3"
  },
  "language_info": {
   "codemirror_mode": {
    "name": "ipython",
    "version": 3
   },
   "file_extension": ".py",
   "mimetype": "text/x-python",
   "name": "python",
   "nbconvert_exporter": "python",
   "pygments_lexer": "ipython3",
   "version": "3.9.6"
  }
 },
 "nbformat": 4,
 "nbformat_minor": 5
}
