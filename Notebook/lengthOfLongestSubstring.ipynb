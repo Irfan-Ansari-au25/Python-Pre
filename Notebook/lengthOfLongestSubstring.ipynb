{
 "cells": [
  {
   "cell_type": "code",
   "execution_count": 2,
   "id": "0ff89766",
   "metadata": {},
   "outputs": [],
   "source": [
    "#  Longest Substring Without Repeating Characters\n",
    "# Solved using two pointers"
   ]
  },
  {
   "cell_type": "code",
   "execution_count": 5,
   "id": "c6323efa",
   "metadata": {},
   "outputs": [
    {
     "name": "stdout",
     "output_type": "stream",
     "text": [
      "{'O': 6, 'D': 7, 'E': 8, 'B': 9, 'A': 10, 'N': 11, 'C': 12}\n",
      "7\n"
     ]
    }
   ],
   "source": [
    "def lengthOfLongestSubstring(s: str) -> int:\n",
    "    l = len(s)                       \n",
    "    start = 0\n",
    "    end = 0\n",
    "    max_len = 0                        \n",
    "\n",
    "    hash_table = {}\n",
    "\n",
    "    while start < l:                    \n",
    "        if s[start] not in hash_table:\n",
    "            hash_table[s[start]] = start    \n",
    "            curr_len = (start-end) + 1                \n",
    "            max_len = max(max_len,curr_len)                          \n",
    "            start += 1                        \n",
    "        else:\n",
    "            while s[start] in hash_table:\n",
    "                hash_table.pop(s[end])\n",
    "                end += 1\n",
    "            hash_table[s[start]] = start\n",
    "            start += 1\n",
    "    print(hash_table)\n",
    "    return max_len\n",
    "\n",
    "if __name__ == '__main__':\n",
    "    s = 'ADOBECODEBANC'\n",
    "    print(lengthOfLongestSubstring(s))"
   ]
  },
  {
   "cell_type": "code",
   "execution_count": 7,
   "id": "098d9571",
   "metadata": {},
   "outputs": [
    {
     "name": "stdout",
     "output_type": "stream",
     "text": [
      "7\n"
     ]
    }
   ],
   "source": [
    "\n",
    "def lengthOfLongestSubstring(s: str) -> int:\n",
    "\n",
    "    temp = '' # string to store current substring of non-repeating elements\n",
    "    subLength = 0 # int variable to track length of current substring of non-repeating elements\n",
    "    maxLength = 1 # int variable to store length of longest substring of non-repeating elements (must initialize at 1)\n",
    "\n",
    "    if len(s) == 0:                                      # edge case: empty input\n",
    "        return 0\n",
    "\n",
    "\n",
    "    for i in range(len(s)):                              # iterate over list --> time O(n)\n",
    "\n",
    "        if s[i] not in temp:                             # if i'th element IS NOT in current substring\n",
    "            temp += s[i]                     \n",
    "            subLength = len(temp)            \n",
    "            maxLength = max(subLength, maxLength)        # determine if current substring is longest\n",
    "\n",
    "        else:                                            # if i'th element IS in current substring\n",
    "            while s[i] in temp:\n",
    "                temp = temp[1:]                          # remove 1st element from current substring until s[i] is no longer repeating  \n",
    "                subLength -= 1                           # reset current substring length for each element removed\n",
    "            temp += s[i]\n",
    "\n",
    "\n",
    "\n",
    "    return maxLength\n",
    "\n",
    "if __name__ == '__main__':\n",
    "    s = 'ADOBECODEBANC'\n",
    "    print(lengthOfLongestSubstring(s))\n"
   ]
  },
  {
   "cell_type": "code",
   "execution_count": null,
   "id": "31a577c1",
   "metadata": {},
   "outputs": [],
   "source": []
  }
 ],
 "metadata": {
  "kernelspec": {
   "display_name": "Python 3 (ipykernel)",
   "language": "python",
   "name": "python3"
  },
  "language_info": {
   "codemirror_mode": {
    "name": "ipython",
    "version": 3
   },
   "file_extension": ".py",
   "mimetype": "text/x-python",
   "name": "python",
   "nbconvert_exporter": "python",
   "pygments_lexer": "ipython3",
   "version": "3.9.6"
  }
 },
 "nbformat": 4,
 "nbformat_minor": 5
}
