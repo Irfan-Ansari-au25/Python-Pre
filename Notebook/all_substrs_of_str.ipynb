{
 "cells": [
  {
   "cell_type": "code",
   "execution_count": 2,
   "id": "b2f3585b",
   "metadata": {},
   "outputs": [],
   "source": [
    "# print all substrings of a string"
   ]
  },
  {
   "cell_type": "code",
   "execution_count": 5,
   "id": "36f040b8",
   "metadata": {},
   "outputs": [
    {
     "name": "stdout",
     "output_type": "stream",
     "text": [
      "a\n",
      "ad\n",
      "ado\n",
      "adob\n",
      "adobe\n",
      "adobec\n",
      "adobeco\n",
      "adobecod\n",
      "adobecode\n",
      "adobecodeb\n",
      "adobecodeba\n",
      "adobecodeban\n",
      "d\n",
      "do\n",
      "dob\n",
      "dobe\n",
      "dobec\n",
      "dobeco\n",
      "dobecod\n",
      "dobecode\n",
      "dobecodeb\n",
      "dobecodeba\n",
      "dobecodeban\n",
      "o\n",
      "ob\n",
      "obe\n",
      "obec\n",
      "obeco\n",
      "obecod\n",
      "obecode\n",
      "obecodeb\n",
      "obecodeba\n",
      "obecodeban\n",
      "b\n",
      "be\n",
      "bec\n",
      "beco\n",
      "becod\n",
      "becode\n",
      "becodeb\n",
      "becodeba\n",
      "becodeban\n",
      "e\n",
      "ec\n",
      "eco\n",
      "ecod\n",
      "ecode\n",
      "ecodeb\n",
      "ecodeba\n",
      "ecodeban\n",
      "c\n",
      "co\n",
      "cod\n",
      "code\n",
      "codeb\n",
      "codeba\n",
      "codeban\n",
      "o\n",
      "od\n",
      "ode\n",
      "odeb\n",
      "odeba\n",
      "odeban\n",
      "d\n",
      "de\n",
      "deb\n",
      "deba\n",
      "deban\n",
      "e\n",
      "eb\n",
      "eba\n",
      "eban\n",
      "b\n",
      "ba\n",
      "ban\n",
      "a\n",
      "an\n",
      "n\n"
     ]
    }
   ],
   "source": [
    "def print_substrings(s):\n",
    "    for i in range(len(s)):\n",
    "        for j in range(i+1,len(s)):\n",
    "            print(s[i:j])\n",
    "            \n",
    "if __name__ == '__main__':\n",
    "    s = 'adobecodebanc'\n",
    "    print_substrings(s)"
   ]
  },
  {
   "cell_type": "code",
   "execution_count": null,
   "id": "03d6cb85",
   "metadata": {},
   "outputs": [],
   "source": []
  }
 ],
 "metadata": {
  "kernelspec": {
   "display_name": "Python 3 (ipykernel)",
   "language": "python",
   "name": "python3"
  },
  "language_info": {
   "codemirror_mode": {
    "name": "ipython",
    "version": 3
   },
   "file_extension": ".py",
   "mimetype": "text/x-python",
   "name": "python",
   "nbconvert_exporter": "python",
   "pygments_lexer": "ipython3",
   "version": "3.9.6"
  }
 },
 "nbformat": 4,
 "nbformat_minor": 5
}
