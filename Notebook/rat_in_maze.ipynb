{
 "cells": [
  {
   "cell_type": "code",
   "execution_count": 1,
   "id": "584c01fb",
   "metadata": {},
   "outputs": [],
   "source": [
    "# Q - 1) Rat in a Maze : No of ways to reach the destination\n",
    "# 0 : way\n",
    "# 1 : No way\n",
    "\n",
    "# https://www.geeksforgeeks.org/rat-in-a-maze-backtracking-2/"
   ]
  },
  {
   "cell_type": "code",
   "execution_count": 9,
   "id": "2fd16f85",
   "metadata": {},
   "outputs": [
    {
     "name": "stdout",
     "output_type": "stream",
     "text": [
      "0 0 1 1 \n",
      "1 0 0 0 \n",
      "1 1 0 0 \n",
      "No of ways:  2\n"
     ]
    }
   ],
   "source": [
    "\n",
    "def no_of_ways(x,y,r,c,grid):\n",
    "    \n",
    "    if x >= r:                 # boundary coords if out of gird, return\n",
    "        return 0\n",
    "\n",
    "    if y >= c:\n",
    "        return 0\n",
    "    \n",
    "    \n",
    "    if x == r-1 and y == c-1:  # coordinate of destination\n",
    "        return 1\n",
    "    \n",
    "    if grid[x][y] == 1:        # if current position is wall\n",
    "        return 0\n",
    "    \n",
    "\n",
    "    ans = no_of_ways(x,y+1,r,c,grid) + no_of_ways(x+1,y,r,c,grid)\n",
    "    \n",
    "    return ans\n",
    "\n",
    "\n",
    "if __name__ == '__main__':\n",
    "    \n",
    "    # Given \n",
    "    grid = [[0,0,1,1],[1,0,0,0],[1,1,0,0]]\n",
    "\n",
    "    x = 0   # x coord\n",
    "    y = 0   # y coord\n",
    "\n",
    "    r = len(grid)\n",
    "    c = len(grid[0])\n",
    "    \n",
    "    for i in range(r):\n",
    "        for j in range(c):\n",
    "            print(grid[i][j],end = \" \")\n",
    "        print()\n",
    "\n",
    "    print('No of ways: ',no_of_ways(x,y,r,c,grid))\n",
    "\n",
    "    \n"
   ]
  },
  {
   "cell_type": "code",
   "execution_count": null,
   "id": "acae0333",
   "metadata": {},
   "outputs": [],
   "source": []
  }
 ],
 "metadata": {
  "kernelspec": {
   "display_name": "Python 3 (ipykernel)",
   "language": "python",
   "name": "python3"
  },
  "language_info": {
   "codemirror_mode": {
    "name": "ipython",
    "version": 3
   },
   "file_extension": ".py",
   "mimetype": "text/x-python",
   "name": "python",
   "nbconvert_exporter": "python",
   "pygments_lexer": "ipython3",
   "version": "3.9.6"
  }
 },
 "nbformat": 4,
 "nbformat_minor": 5
}
