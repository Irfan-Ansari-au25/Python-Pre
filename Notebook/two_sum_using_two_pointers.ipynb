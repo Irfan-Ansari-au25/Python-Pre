{
 "cells": [
  {
   "cell_type": "code",
   "execution_count": 3,
   "id": "4cf55213",
   "metadata": {},
   "outputs": [
    {
     "name": "stdout",
     "output_type": "stream",
     "text": [
      "[1, 4]\n"
     ]
    }
   ],
   "source": [
    "# two sum using two pointers\n",
    "\n",
    "#    0 1 2 3 4 5    0 1 2 3 4 5\n",
    "A = [1,3,5,7,8,4] # 1 3 4 5 7 8\n",
    "target = 10\n",
    "\n",
    "def two_sum(A,target):\n",
    "    A.sort()\n",
    "    left = 0\n",
    "    right = len(A)-1 \n",
    "    \n",
    "    while left<right:\n",
    "        sum = A[left]+A[right]\n",
    "        \n",
    "        if sum > target:\n",
    "            right -= 1\n",
    "\n",
    "        elif sum < target:\n",
    "            left += 1\n",
    "\n",
    "        else:\n",
    "            return [left,right]\n",
    "    \n",
    "if __name__ == '__main__':\n",
    "    ans = (two_sum(A,target))\n",
    "    print(ans)"
   ]
  },
  {
   "cell_type": "code",
   "execution_count": null,
   "id": "416f13a0",
   "metadata": {},
   "outputs": [],
   "source": []
  },
  {
   "cell_type": "code",
   "execution_count": null,
   "id": "b4ac03ca",
   "metadata": {},
   "outputs": [],
   "source": []
  }
 ],
 "metadata": {
  "kernelspec": {
   "display_name": "Python 3 (ipykernel)",
   "language": "python",
   "name": "python3"
  },
  "language_info": {
   "codemirror_mode": {
    "name": "ipython",
    "version": 3
   },
   "file_extension": ".py",
   "mimetype": "text/x-python",
   "name": "python",
   "nbconvert_exporter": "python",
   "pygments_lexer": "ipython3",
   "version": "3.9.6"
  }
 },
 "nbformat": 4,
 "nbformat_minor": 5
}
