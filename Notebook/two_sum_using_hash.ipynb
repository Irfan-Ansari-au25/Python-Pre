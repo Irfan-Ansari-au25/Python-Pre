{
 "cells": [
  {
   "cell_type": "code",
   "execution_count": 1,
   "id": "9d55bde2",
   "metadata": {},
   "outputs": [],
   "source": [
    "# hash table:"
   ]
  },
  {
   "cell_type": "code",
   "execution_count": 16,
   "id": "f5196534",
   "metadata": {},
   "outputs": [
    {
     "name": "stdout",
     "output_type": "stream",
     "text": [
      "{1: 0, 3: 1, 5: 2}\n",
      "[1, 3]\n"
     ]
    }
   ],
   "source": [
    "\n",
    "#    0 1 2 3 4 5\n",
    "A = [1,3,5,7,8,4]\n",
    "target = 10\n",
    "\n",
    "# Two sum using hashing,hash,hash_map,hash_table\n",
    "\n",
    "def two_sum(A,target):\n",
    "    hash_table = {}\n",
    "    \n",
    "    for i in range(len(A)):\n",
    "        ele = target-A[i]\n",
    "        \n",
    "        if ele in hash_table:\n",
    "            ans = [hash_table[ele],i]\n",
    "            print(hash_table)\n",
    "            return ans\n",
    "        else:\n",
    "            hash_table[A[i]] = i\n",
    "   \n",
    "    \n",
    "    return -1\n",
    "\n",
    "print(two_sum(A,target))\n",
    "\n",
    "        "
   ]
  },
  {
   "cell_type": "code",
   "execution_count": null,
   "id": "ae80df33",
   "metadata": {},
   "outputs": [],
   "source": []
  }
 ],
 "metadata": {
  "kernelspec": {
   "display_name": "Python 3 (ipykernel)",
   "language": "python",
   "name": "python3"
  },
  "language_info": {
   "codemirror_mode": {
    "name": "ipython",
    "version": 3
   },
   "file_extension": ".py",
   "mimetype": "text/x-python",
   "name": "python",
   "nbconvert_exporter": "python",
   "pygments_lexer": "ipython3",
   "version": "3.9.6"
  }
 },
 "nbformat": 4,
 "nbformat_minor": 5
}
