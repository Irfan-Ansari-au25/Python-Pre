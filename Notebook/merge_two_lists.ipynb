{
 "cells": [
  {
   "cell_type": "code",
   "execution_count": 1,
   "id": "79d8dfbb",
   "metadata": {},
   "outputs": [],
   "source": [
    "# merge two list function :\n",
    "\n",
    "# Requirements : needs two sorted array eg. [2,3,5,7] and [4,8,9,13,45]\n"
   ]
  },
  {
   "cell_type": "code",
   "execution_count": 7,
   "id": "2eec314b",
   "metadata": {},
   "outputs": [
    {
     "name": "stdout",
     "output_type": "stream",
     "text": [
      "[2, 3, 3, 4, 5, 7, 8, 8, 9, 13, 45, 77]\n"
     ]
    }
   ],
   "source": [
    "# merge two list function\n",
    "\n",
    "def merge_two_lists(A1,A2):\n",
    "    \n",
    "    p1 = 0              # create two pointers\n",
    "    p2 = 0\n",
    "    n = len(A1)\n",
    "    m = len(A2)\n",
    "    \n",
    "    C = []\n",
    "    \n",
    "    while p1<n and p2<m:\n",
    "        \n",
    "        if A1[p1]<A2[p2]:\n",
    "            \n",
    "            C.append(A1[p1])\n",
    "            p1 += 1\n",
    "            \n",
    "        else:\n",
    "            \n",
    "            C.append(A2[p2])\n",
    "            p2 += 1\n",
    "    \n",
    "    # Conditions when sorter list go out range\n",
    "    \n",
    "    while p1<n:\n",
    "        \n",
    "        C.append(A1[p1])\n",
    "        p1 += 1\n",
    "        \n",
    "    while p2<m:\n",
    "        \n",
    "        C.append(A2[p2])\n",
    "        p2 += 1\n",
    "    \n",
    "    return C\n",
    "\n",
    "# Inputs\n",
    "        \n",
    "if __name__ == \"__main__\":\n",
    "    \n",
    "    A1 = [2,3,3,5,7,8] \n",
    "    A2 = [4,8,9,13,45,77]\n",
    "    \n",
    "    print(merge_two_lists(A1,A2))\n",
    "    \n",
    "    \n"
   ]
  },
  {
   "cell_type": "code",
   "execution_count": null,
   "id": "cb598a3e",
   "metadata": {},
   "outputs": [],
   "source": []
  }
 ],
 "metadata": {
  "kernelspec": {
   "display_name": "Python 3 (ipykernel)",
   "language": "python",
   "name": "python3"
  },
  "language_info": {
   "codemirror_mode": {
    "name": "ipython",
    "version": 3
   },
   "file_extension": ".py",
   "mimetype": "text/x-python",
   "name": "python",
   "nbconvert_exporter": "python",
   "pygments_lexer": "ipython3",
   "version": "3.9.6"
  }
 },
 "nbformat": 4,
 "nbformat_minor": 5
}
