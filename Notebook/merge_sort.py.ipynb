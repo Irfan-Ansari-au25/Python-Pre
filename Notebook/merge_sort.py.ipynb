{
 "cells": [
  {
   "cell_type": "code",
   "execution_count": 28,
   "id": "49cdb375",
   "metadata": {},
   "outputs": [],
   "source": [
    "# Merge function:\n",
    "# Requires two sorted array"
   ]
  },
  {
   "cell_type": "code",
   "execution_count": 18,
   "id": "82c68dbb",
   "metadata": {},
   "outputs": [],
   "source": [
    "\n",
    "def merge(A,start_l,end_l,start_r,end_r):\n",
    "    p1 = start_l\n",
    "    p2 = start_r\n",
    "    C = []\n",
    "    \n",
    "    while p1<end_l and p2<end_r:\n",
    "        if A[p1]<A[p2]:\n",
    "            C.append(A[p1])\n",
    "            p1 += 1\n",
    "            \n",
    "        else:\n",
    "            C.append(A[p2])\n",
    "            p2 += 1\n",
    "            \n",
    "    while p1<end_l:\n",
    "        C.append(A[p1])\n",
    "        p1 += 1\n",
    "    \n",
    "    while p2<end_r:\n",
    "        C.append(A[p2])\n",
    "        p2 += 1\n",
    "    # debug this and try to understand\n",
    "    idx = 0\n",
    "    while idx<len(C):\n",
    "        A[start_l+idx]  = C[idx]\n",
    "        idx += 1\n",
    "        \n",
    "#     print(C)\n",
    "    \n",
    "\n",
    "\n",
    "            "
   ]
  },
  {
   "cell_type": "code",
   "execution_count": 19,
   "id": "98b183cb",
   "metadata": {},
   "outputs": [
    {
     "name": "stdout",
     "output_type": "stream",
     "text": [
      "Merge sort function :  [3, 5, 8, 8, 3, 23, 5, 23, 23, 23, 32, 45, 32, 5, 5, 4]\n"
     ]
    }
   ],
   "source": [
    "# Merge Sort\n",
    "\n",
    "def merge_sort(A,l,r):\n",
    "    mid = (l+r)//2\n",
    "    if l==r:              # Base Condition\n",
    "        return\n",
    "    \n",
    "    merge_sort(A,l,mid)\n",
    "    merge_sort(A,mid+1,r)\n",
    "#     print(A)\n",
    "    \n",
    "    merge(A,l,mid,mid+1,r)\n",
    "    \n",
    "    \n",
    "# Inputs   \n",
    "    \n",
    "if __name__ == '__main__':\n",
    "    \n",
    "    # merge function\n",
    "#     A = [1,4,7,11,21,2,5,9,17]\n",
    "#     print('Output of merge fucntion : ',merge(A,0,4,5,len(A)-1))\n",
    "    \n",
    "    # merge sort function \n",
    "    \n",
    "    A = [8,6,3,9,8,11,23,4,45,65,32,12,23,6,5,4]\n",
    "    merge_sort(A,0,len(A)-1)\n",
    "    print('Merge sort function : ',A)\n",
    "   \n",
    "    \n",
    "    \n",
    "    \n",
    "    "
   ]
  },
  {
   "cell_type": "code",
   "execution_count": 17,
   "id": "d84a6bdd",
   "metadata": {},
   "outputs": [
    {
     "name": "stdout",
     "output_type": "stream",
     "text": [
      "[3, 4, 4, 5, 6, 6, 8, 8, 9, 11, 12, 23, 23, 32, 45, 65]\n"
     ]
    }
   ],
   "source": [
    "\n",
    "def merge(A,start_l,end_l,start_r,end_r):\n",
    "    p1 = start_l\n",
    "    p2 = start_r\n",
    "\n",
    "    C = list()\n",
    "\n",
    "    while p1<=end_l and p2<=end_r:\n",
    "        if A[p1]<A[p2]:\n",
    "            C.append(A[p1])\n",
    "            p1 += 1\n",
    "        else:\n",
    "            C.append(A[p2])\n",
    "            p2 += 1 \n",
    "\n",
    "    # print(p1,p2)\n",
    "    while p2<=end_r:\n",
    "        C.append(A[p2])\n",
    "        p2 += 1\n",
    "    \n",
    "    while p1<=end_l:\n",
    "        C.append(A[p1])\n",
    "        p1 += 1\n",
    "\n",
    "    idx = 0\n",
    "    while idx<len(C):\n",
    "        A[start_l+idx]  = C[idx]\n",
    "        idx += 1\n",
    "\n",
    "def merge_sort(A,l,r):\n",
    "    m = (l+r)//2\n",
    "    if l==r:\n",
    "        return\n",
    "    merge_sort(A,l,m)\n",
    "\n",
    "    merge_sort(A,m+1,r)\n",
    "#     print(A)\n",
    "\n",
    "    merge(A,l,m,m+1,r)\n",
    "\n",
    "\n",
    "\n",
    "\n",
    "if __name__==\"__main__\":\n",
    "    A = [1,5,7] #n elements\n",
    "    B = [2,6,9,14,17,18] #m elements\n",
    "    # stupid_merge(A,B)\n",
    "\n",
    "    # res_l = merge_two_lists(A,B)    \n",
    "    # print(res_l,\"result\")\n",
    "\n",
    "    A = [8,6,3,9,8,11,23,4,45,65,32,12,23,6,5,4]\n",
    "    merge_sort(A,0,len(A)-1)\n",
    "    print(A)\n",
    "\n",
    "\n",
    "        "
   ]
  },
  {
   "cell_type": "code",
   "execution_count": null,
   "id": "525c429b",
   "metadata": {},
   "outputs": [],
   "source": []
  },
  {
   "cell_type": "code",
   "execution_count": null,
   "id": "5a59353d",
   "metadata": {},
   "outputs": [],
   "source": []
  }
 ],
 "metadata": {
  "kernelspec": {
   "display_name": "Python 3 (ipykernel)",
   "language": "python",
   "name": "python3"
  },
  "language_info": {
   "codemirror_mode": {
    "name": "ipython",
    "version": 3
   },
   "file_extension": ".py",
   "mimetype": "text/x-python",
   "name": "python",
   "nbconvert_exporter": "python",
   "pygments_lexer": "ipython3",
   "version": "3.9.6"
  }
 },
 "nbformat": 4,
 "nbformat_minor": 5
}
