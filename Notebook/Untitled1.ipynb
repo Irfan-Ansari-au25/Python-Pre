{
 "cells": [
  {
   "cell_type": "code",
   "execution_count": null,
   "id": "a3174d9e",
   "metadata": {},
   "outputs": [],
   "source": [
    "# Linked List\n",
    "# 1 --> 2 --> 5 --> 6 --> None"
   ]
  }
 ],
 "metadata": {
  "kernelspec": {
   "display_name": "Python 3 (ipykernel)",
   "language": "python",
   "name": "python3"
  }
 },
 "nbformat": 4,
 "nbformat_minor": 5
}
