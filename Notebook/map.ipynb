{
 "cells": [
  {
   "cell_type": "code",
   "execution_count": 1,
   "id": "7d48d873",
   "metadata": {},
   "outputs": [],
   "source": [
    "# Map(function,iterables)\n",
    "# >>> returns a map object, later convert into list,tuple or dictionary"
   ]
  },
  {
   "cell_type": "code",
   "execution_count": 3,
   "id": "fc7443a3",
   "metadata": {},
   "outputs": [
    {
     "name": "stdout",
     "output_type": "stream",
     "text": [
      "[1, 3, 5, 7, 9, 11, 13, 15, 17, 19, 21]\n"
     ]
    }
   ],
   "source": [
    "my_list = list(range(1,23,2))\n",
    "print(my_list)"
   ]
  },
  {
   "cell_type": "code",
   "execution_count": 4,
   "id": "16e26c1d",
   "metadata": {},
   "outputs": [],
   "source": [
    "def my_func(n):\n",
    "    return n**2"
   ]
  },
  {
   "cell_type": "code",
   "execution_count": 7,
   "id": "ef15a744",
   "metadata": {},
   "outputs": [
    {
     "name": "stdout",
     "output_type": "stream",
     "text": [
      "<map object at 0x10de2f520>\n"
     ]
    }
   ],
   "source": [
    "my_new_list = map(my_func,my_list) # map object\n",
    "print(my_new_list) "
   ]
  },
  {
   "cell_type": "code",
   "execution_count": 12,
   "id": "a7123539",
   "metadata": {},
   "outputs": [
    {
     "name": "stdout",
     "output_type": "stream",
     "text": [
      "My old list :  [1, 3, 5, 7, 9, 11, 13, 15, 17, 19, 21]\n",
      "My new mapped list :  [1, 9, 25, 49, 81, 121, 169, 225, 289, 361, 441]\n"
     ]
    }
   ],
   "source": [
    "# convert map object into list\n",
    "my_new_list = list(map(my_func,my_list))\n",
    "print('My old list : ',my_list)\n",
    "print('My new mapped list : ',my_new_list)"
   ]
  },
  {
   "cell_type": "code",
   "execution_count": null,
   "id": "7c2e7786",
   "metadata": {},
   "outputs": [],
   "source": []
  }
 ],
 "metadata": {
  "kernelspec": {
   "display_name": "Python 3 (ipykernel)",
   "language": "python",
   "name": "python3"
  },
  "language_info": {
   "codemirror_mode": {
    "name": "ipython",
    "version": 3
   },
   "file_extension": ".py",
   "mimetype": "text/x-python",
   "name": "python",
   "nbconvert_exporter": "python",
   "pygments_lexer": "ipython3",
   "version": "3.9.6"
  }
 },
 "nbformat": 4,
 "nbformat_minor": 5
}
