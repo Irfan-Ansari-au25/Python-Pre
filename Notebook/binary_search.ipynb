{
 "cells": [
  {
   "cell_type": "code",
   "execution_count": null,
   "id": "27aa8ef0",
   "metadata": {},
   "outputs": [],
   "source": [
    "# Binary Search Algorithm\n",
    "# conditions :\n",
    "# 1. List must be sorted ie [1,3,5,7,9,23,45,76,88,90]"
   ]
  },
  {
   "cell_type": "code",
   "execution_count": 1,
   "id": "b83dd9b5",
   "metadata": {},
   "outputs": [],
   "source": [
    "A = [-2,1,5,7,9,23,45,67,89]\n",
    "target = 9"
   ]
  },
  {
   "cell_type": "code",
   "execution_count": 18,
   "id": "9c545305",
   "metadata": {},
   "outputs": [
    {
     "name": "stdout",
     "output_type": "stream",
     "text": [
      "0\n"
     ]
    }
   ],
   "source": [
    "def binary_search(A,target):\n",
    "    l = len(A)\n",
    "    low = 0\n",
    "    high = l-1\n",
    "    \n",
    "    while low<=high:\n",
    "        mid = (low+high)//2\n",
    "        \n",
    "        if target == A[mid]:\n",
    "            return mid\n",
    "        elif target <= A[mid]: # ignore right half\n",
    "            high = mid - 1\n",
    "        else:\n",
    "            low = mid + 1      # ignore left half\n",
    "            \n",
    "    return -1\n",
    "print(binary_search(A,target))\n",
    "    "
   ]
  },
  {
   "cell_type": "code",
   "execution_count": null,
   "id": "edd892b2",
   "metadata": {},
   "outputs": [],
   "source": []
  }
 ],
 "metadata": {
  "kernelspec": {
   "display_name": "Python 3 (ipykernel)",
   "language": "python",
   "name": "python3"
  },
  "language_info": {
   "codemirror_mode": {
    "name": "ipython",
    "version": 3
   },
   "file_extension": ".py",
   "mimetype": "text/x-python",
   "name": "python",
   "nbconvert_exporter": "python",
   "pygments_lexer": "ipython3",
   "version": "3.9.6"
  }
 },
 "nbformat": 4,
 "nbformat_minor": 5
}
