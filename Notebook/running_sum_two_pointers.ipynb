{
 "cells": [
  {
   "cell_type": "code",
   "execution_count": 1,
   "id": "dd63116a",
   "metadata": {},
   "outputs": [],
   "source": [
    "# Two pointers"
   ]
  },
  {
   "cell_type": "code",
   "execution_count": 11,
   "id": "57d7ec35",
   "metadata": {},
   "outputs": [],
   "source": [
    "# runnig sum of a given array\n",
    "\n",
    "def runnig_sum(A):\n",
    "    rs = A[0]\n",
    "    R = []\n",
    "    R.append(rs)\n",
    "    for i in range(len(A)-1):\n",
    "        rs += A[i+1]\n",
    "        R.append(rs)\n",
    "    \n",
    "    print('R', R)\n",
    "        \n",
    "    return R\n"
   ]
  },
  {
   "cell_type": "code",
   "execution_count": 14,
   "id": "b580b31e",
   "metadata": {},
   "outputs": [
    {
     "name": "stdout",
     "output_type": "stream",
     "text": [
      "A:  [1, 3, 5, -1, 2, 4, 7]\n",
      "R [1, 4, 9, 8, 10, 14, 21]\n",
      "Ans : 10\n"
     ]
    }
   ],
   "source": [
    "\n",
    "def sum_i_to_j(R,i,j):\n",
    "    if i==0:\n",
    "        return R[j]\n",
    "    \n",
    "    ans = R[j] - R[i-1]\n",
    "    return ans\n",
    "\n",
    "if __name__ == '__main__':\n",
    "    \n",
    "    A = [1,3,5,-1,2,4,7]\n",
    "    print('A: ',A)\n",
    "    \n",
    "    R = runnig_sum(A)\n",
    "    \n",
    "    print('Ans :',sum_i_to_j(R,2,5))\n",
    "    \n",
    "    "
   ]
  },
  {
   "cell_type": "code",
   "execution_count": null,
   "id": "7cd81e53",
   "metadata": {},
   "outputs": [],
   "source": []
  }
 ],
 "metadata": {
  "kernelspec": {
   "display_name": "Python 3 (ipykernel)",
   "language": "python",
   "name": "python3"
  },
  "language_info": {
   "codemirror_mode": {
    "name": "ipython",
    "version": 3
   },
   "file_extension": ".py",
   "mimetype": "text/x-python",
   "name": "python",
   "nbconvert_exporter": "python",
   "pygments_lexer": "ipython3",
   "version": "3.9.6"
  }
 },
 "nbformat": 4,
 "nbformat_minor": 5
}
