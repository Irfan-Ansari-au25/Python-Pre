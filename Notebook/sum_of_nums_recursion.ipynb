{
 "cells": [
  {
   "cell_type": "code",
   "execution_count": 2,
   "id": "ab2572af",
   "metadata": {},
   "outputs": [],
   "source": [
    "# recursion : sum of a number - 12345 "
   ]
  },
  {
   "cell_type": "code",
   "execution_count": 6,
   "id": "f84f1b40",
   "metadata": {},
   "outputs": [
    {
     "name": "stdout",
     "output_type": "stream",
     "text": [
      "25\n"
     ]
    }
   ],
   "source": [
    "n = 34567\n",
    "\n",
    "def sum_of_no(n):\n",
    "    if n == 0:\n",
    "        return 0\n",
    "    \n",
    "    s = n%10 + sum_of_no(n//10)\n",
    "    \n",
    "    return s\n",
    "\n",
    "print(sum_of_no(n))\n",
    "    "
   ]
  },
  {
   "cell_type": "code",
   "execution_count": null,
   "id": "a1e27673",
   "metadata": {},
   "outputs": [],
   "source": []
  }
 ],
 "metadata": {
  "kernelspec": {
   "display_name": "Python 3 (ipykernel)",
   "language": "python",
   "name": "python3"
  },
  "language_info": {
   "codemirror_mode": {
    "name": "ipython",
    "version": 3
   },
   "file_extension": ".py",
   "mimetype": "text/x-python",
   "name": "python",
   "nbconvert_exporter": "python",
   "pygments_lexer": "ipython3",
   "version": "3.9.6"
  }
 },
 "nbformat": 4,
 "nbformat_minor": 5
}
