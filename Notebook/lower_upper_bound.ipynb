{
 "cells": [
  {
   "cell_type": "code",
   "execution_count": 7,
   "id": "7b44fb90",
   "metadata": {},
   "outputs": [],
   "source": [
    "# Lower bound\n",
    "\n",
    "A = [1,1,2,2,2,2,3,3,3,3]\n",
    "\n",
    "target = 3"
   ]
  },
  {
   "cell_type": "code",
   "execution_count": 8,
   "id": "076da5c6",
   "metadata": {},
   "outputs": [
    {
     "name": "stdout",
     "output_type": "stream",
     "text": [
      "Index of target :  6\n"
     ]
    }
   ],
   "source": [
    "def lower_bound(A,target):\n",
    "    l = len(A)\n",
    "    low = 0\n",
    "    high = l-1\n",
    "    \n",
    "    result = -1\n",
    "    \n",
    "    while low<=high:\n",
    "        mid = (low+high)//2\n",
    "        \n",
    "        if A[mid]==target:\n",
    "            result = mid\n",
    "            high = mid-1\n",
    "            \n",
    "        elif A[mid]<target:\n",
    "            low = mid+1\n",
    "        \n",
    "        else:\n",
    "            high = mid-1\n",
    "    \n",
    "    return result\n",
    "\n",
    "res = lower_bound(A,target)\n",
    "\n",
    "# if __name__ == '__main__':\n",
    "\n",
    "if res==-1:\n",
    "    print('Not in the list : ', res)\n",
    "\n",
    "else:\n",
    "    print('Index of target : ',res)\n",
    "\n",
    "            \n",
    "        \n",
    "    "
   ]
  },
  {
   "cell_type": "code",
   "execution_count": 6,
   "id": "e1ee4dd5",
   "metadata": {},
   "outputs": [
    {
     "name": "stdout",
     "output_type": "stream",
     "text": [
      "Index of target :  4\n"
     ]
    }
   ],
   "source": [
    "# Upper bound\n",
    "\n",
    "def upper_bound(A,target):\n",
    "    l = len(A)\n",
    "    low = 0\n",
    "    high = l-1\n",
    "    \n",
    "    result = -1\n",
    "    \n",
    "    while low<=high:\n",
    "        mid = (low+high)//2\n",
    "        \n",
    "        if A[mid]==target:\n",
    "            result = mid\n",
    "            low = mid+1\n",
    "            \n",
    "        elif A[mid]<target:\n",
    "            low = mid+1\n",
    "            \n",
    "        elif A[mid]>target:\n",
    "            high = mid-1\n",
    "        \n",
    "        return result\n",
    "\n",
    "# if __name__ == '__main__':\n",
    "\n",
    "res = upper_bound(A,target)\n",
    "\n",
    "if res==-1:\n",
    "    print('Not in the list : ',res)\n",
    "    \n",
    "else:\n",
    "    print('Index of target : ',res)\n",
    "\n",
    "            "
   ]
  },
  {
   "cell_type": "code",
   "execution_count": null,
   "id": "565ec217",
   "metadata": {},
   "outputs": [],
   "source": []
  },
  {
   "cell_type": "code",
   "execution_count": null,
   "id": "02ff261d",
   "metadata": {},
   "outputs": [],
   "source": []
  }
 ],
 "metadata": {
  "kernelspec": {
   "display_name": "Python 3 (ipykernel)",
   "language": "python",
   "name": "python3"
  },
  "language_info": {
   "codemirror_mode": {
    "name": "ipython",
    "version": 3
   },
   "file_extension": ".py",
   "mimetype": "text/x-python",
   "name": "python",
   "nbconvert_exporter": "python",
   "pygments_lexer": "ipython3",
   "version": "3.9.6"
  }
 },
 "nbformat": 4,
 "nbformat_minor": 5
}
