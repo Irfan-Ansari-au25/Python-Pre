{
 "cells": [
  {
   "cell_type": "code",
   "execution_count": 14,
   "id": "f87ed8b1",
   "metadata": {},
   "outputs": [
    {
     "name": "stdout",
     "output_type": "stream",
     "text": [
      "12 len of s\n",
      "()\n",
      "{}\n",
      "[]\n",
      "()\n",
      "{}\n",
      "[]\n",
      "\n",
      "(\n",
      "{\n",
      "[\n",
      "(\n",
      "{\n",
      "[\n"
     ]
    }
   ],
   "source": [
    "sample = ['()', '{}', '[]']\n",
    "s = '(){}[](){}[]'\n",
    "l = len(s)\n",
    "print(len(s),'len of s')\n",
    "# printing two ch in a string\n",
    "for i in range(0,l+1,2):\n",
    "    print(s[i:i+2])\n",
    "# printing odd ch in a string          \n",
    "for i in range(0,l,2):\n",
    "    print(s[i])\n",
    "    \n",
    "\n",
    "    "
   ]
  },
  {
   "cell_type": "code",
   "execution_count": 59,
   "id": "18f14699",
   "metadata": {},
   "outputs": [
    {
     "name": "stdout",
     "output_type": "stream",
     "text": [
      "[')', '{', '}', '}', '{'] s1 5\n",
      "pop_add ['(']\n",
      "['{', '}', '}', '{'] s1 4\n",
      "pop_add ['(', ')']\n",
      "['}', '}', '{'] s1 3\n",
      "pop_add ['(', ')', '{']\n",
      "['(', ')', '{'] final\n",
      "['}', '}', '{'] s1 final\n",
      "({)}{}\n",
      "({ False\n",
      ")} False\n",
      "{} True\n",
      " False\n",
      "None\n"
     ]
    }
   ],
   "source": [
    "# s1 = list('[{()}]')\n",
    "s1 = list(\"(){}}{\")\n",
    "\n",
    "def func():\n",
    "    half = len(s1)//2\n",
    "    test = []\n",
    "    i = 0\n",
    "    while i < half:\n",
    "\n",
    "    #     print(s1.pop(0))\n",
    "        test.append(s1.pop(0))\n",
    "        print(s1,'s1',len(s1))\n",
    "        print('pop_add', test)\n",
    "    #     test.insert(-1,s[half+i-1])\n",
    "    #     print('rev_add', test)\n",
    "        i += 1\n",
    "    print(test,'final')\n",
    "    print(s1, 's1 final')\n",
    "    # test += s1\n",
    "    # print(test,'ad')\n",
    "    final = []\n",
    "    for i in range(len(test)):\n",
    "        final.append(test[i])\n",
    "        final.append(s1[-1-i])\n",
    "\n",
    "    final = ''.join(final)\n",
    "    print(final)\n",
    "    \n",
    "    state = 'False'\n",
    "\n",
    "    for i in range(0,len(final)+1,2):\n",
    "        pair = (final[i:i+2])\n",
    "        if pair in sample:\n",
    "            \n",
    "            state = 'True'\n",
    "            print(pair,state)\n",
    "#             return('True')\n",
    "        else:\n",
    "            state = 'False'\n",
    "            print(pair,state)\n",
    "            \n",
    "            \n",
    "#             return('False')\n",
    "print(func())\n",
    "    "
   ]
  },
  {
   "cell_type": "code",
   "execution_count": 21,
   "id": "64d58241",
   "metadata": {},
   "outputs": [
    {
     "name": "stdout",
     "output_type": "stream",
     "text": [
      "['[', '{', '(', ')', '}', ']']\n"
     ]
    }
   ],
   "source": [
    "print(s1)"
   ]
  },
  {
   "cell_type": "code",
   "execution_count": 60,
   "id": "f332006a",
   "metadata": {},
   "outputs": [
    {
     "name": "stdout",
     "output_type": "stream",
     "text": [
      "True\n"
     ]
    }
   ],
   "source": [
    "a =['[]','{}']\n",
    "print('{}' in a)"
   ]
  },
  {
   "cell_type": "code",
   "execution_count": null,
   "id": "924169e2",
   "metadata": {},
   "outputs": [],
   "source": []
  }
 ],
 "metadata": {
  "kernelspec": {
   "display_name": "Python 3 (ipykernel)",
   "language": "python",
   "name": "python3"
  },
  "language_info": {
   "codemirror_mode": {
    "name": "ipython",
    "version": 3
   },
   "file_extension": ".py",
   "mimetype": "text/x-python",
   "name": "python",
   "nbconvert_exporter": "python",
   "pygments_lexer": "ipython3",
   "version": "3.9.6"
  }
 },
 "nbformat": 4,
 "nbformat_minor": 5
}
