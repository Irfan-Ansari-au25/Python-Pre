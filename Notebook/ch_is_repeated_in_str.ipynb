{
 "cells": [
  {
   "cell_type": "code",
   "execution_count": 1,
   "id": "1633acdb",
   "metadata": {},
   "outputs": [],
   "source": [
    "# Find repetition in a string : return True or False"
   ]
  },
  {
   "cell_type": "code",
   "execution_count": 9,
   "id": "67024ed0",
   "metadata": {},
   "outputs": [
    {
     "name": "stdout",
     "output_type": "stream",
     "text": [
      "True\n"
     ]
    }
   ],
   "source": [
    "def repeatation(s):\n",
    "    for i in range(len(s)):\n",
    "        if s[i] in s[0:i] + s[i+1:len(s)]:\n",
    "#             print(s[i])\n",
    "            return True\n",
    "        else:\n",
    "            return False\n",
    "\n",
    "if __name__ == '__main__':\n",
    "    s = 'adobecodeblanc'\n",
    "    print(repeatation(s))\n",
    "        "
   ]
  },
  {
   "cell_type": "code",
   "execution_count": null,
   "id": "aa4c345b",
   "metadata": {},
   "outputs": [],
   "source": []
  }
 ],
 "metadata": {
  "kernelspec": {
   "display_name": "Python 3 (ipykernel)",
   "language": "python",
   "name": "python3"
  },
  "language_info": {
   "codemirror_mode": {
    "name": "ipython",
    "version": 3
   },
   "file_extension": ".py",
   "mimetype": "text/x-python",
   "name": "python",
   "nbconvert_exporter": "python",
   "pygments_lexer": "ipython3",
   "version": "3.9.6"
  }
 },
 "nbformat": 4,
 "nbformat_minor": 5
}
