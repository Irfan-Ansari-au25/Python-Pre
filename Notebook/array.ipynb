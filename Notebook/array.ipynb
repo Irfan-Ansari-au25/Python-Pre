{
 "cells": [
  {
   "cell_type": "code",
   "execution_count": 24,
   "id": "914bb5cc",
   "metadata": {},
   "outputs": [
    {
     "name": "stdout",
     "output_type": "stream",
     "text": [
      "The new created array is : 1 2 3 \r\n",
      "The appended array is : 1 2 3 4 \r\n",
      "The array after insertion is :  1 2 5 3 4 \r\n",
      "Reversed array 4 3 5 2 1 \r\n"
     ]
    }
   ],
   "source": [
    "import array\n",
    "\n",
    "arr = array.array('i',[1,2,3])\n",
    "print('The new created array is :', end=' ')\n",
    "for i in range(0,3):\n",
    "    print(arr[i], end=' ')\n",
    "print('\\r')\n",
    "\n",
    "arr.append(4)\n",
    "print('The appended array is :',end=' ')\n",
    "for i in range(4):\n",
    "    print(arr[i], end=' ')\n",
    "\n",
    "arr.insert(2,5)\n",
    "print('\\r')\n",
    "print('The array after insertion is : ', end=' ')\n",
    "for i in range(5):\n",
    "    print(arr[i], end=' ') \n",
    "print('\\r')\n",
    "arr.reverse()\n",
    "\n",
    "print('Reversed array', end=' ')\n",
    "for i in range(5):\n",
    "    print(arr[i], end=' ')\n",
    "print('\\r')\n",
    "\n",
    "\n",
    "\n",
    "\n"
   ]
  },
  {
   "cell_type": "code",
   "execution_count": 25,
   "id": "aa2f1816",
   "metadata": {},
   "outputs": [],
   "source": [
    "# Creating a matrix "
   ]
  },
  {
   "cell_type": "code",
   "execution_count": 28,
   "id": "e79412a7",
   "metadata": {},
   "outputs": [
    {
     "name": "stdout",
     "output_type": "stream",
     "text": [
      "[0, 1, 2, 3, 4]\n"
     ]
    }
   ],
   "source": [
    "# Method:1\n",
    "\n",
    "list = [i for i in range(5)] # shorthand notation\n",
    "print(list)\n",
    "list.reverse()\n",
    "# print(list)"
   ]
  },
  {
   "cell_type": "code",
   "execution_count": 29,
   "id": "6edc1dc8",
   "metadata": {},
   "outputs": [
    {
     "name": "stdout",
     "output_type": "stream",
     "text": [
      "[0, 0, 0, 0, 0]\n"
     ]
    }
   ],
   "source": [
    "# Method:2\n",
    "\n",
    "n = 5\n",
    "arr = [0]*n\n",
    "print(arr)"
   ]
  },
  {
   "cell_type": "code",
   "execution_count": 31,
   "id": "de4551d3",
   "metadata": {},
   "outputs": [
    {
     "name": "stdout",
     "output_type": "stream",
     "text": [
      "[[0, 0, 0, 0, 0], [0, 0, 0, 0, 0], [0, 0, 0, 0, 0], [0, 0, 0, 0, 0], [0, 0, 0, 0, 0]]\n"
     ]
    }
   ],
   "source": [
    "# Method:1 for creating a 2D array\n",
    "\n",
    "rows, cols = (5,5)\n",
    "arr = [[0]*cols]*rows\n",
    "print(arr)"
   ]
  },
  {
   "cell_type": "code",
   "execution_count": 32,
   "id": "8b1bb5f6",
   "metadata": {},
   "outputs": [
    {
     "name": "stdout",
     "output_type": "stream",
     "text": [
      "[[0, 0, 0, 0, 0], [0, 0, 0, 0, 0], [0, 0, 0, 0, 0], [0, 0, 0, 0, 0], [0, 0, 0, 0, 0]]\n"
     ]
    }
   ],
   "source": [
    "# Method:2 for creating a 2D array\n",
    "\"\"\"\n",
    "Note:\n",
    "This is the best and safest method to create an array.\n",
    "\n",
    "\"\"\"\n",
    "\n",
    "rows, cols = (5,5)\n",
    "arr = [[0 for i in range(cols)] for j in range(rows)]\n",
    "print(arr)"
   ]
  },
  {
   "cell_type": "code",
   "execution_count": 35,
   "id": "043a9d8c",
   "metadata": {},
   "outputs": [
    {
     "name": "stdout",
     "output_type": "stream",
     "text": [
      "[[0, 0, 0, 0, 0], [0, 0, 0, 0, 0], [0, 0, 0, 0, 0], [0, 0, 0, 0, 0], [0, 0, 0, 0, 0]]\n"
     ]
    }
   ],
   "source": [
    "rows, cols =(5,5)\n",
    "arr = []\n",
    "for i in range(rows):\n",
    "    col = []\n",
    "    for j in range(cols):\n",
    "        col.append(0)\n",
    "    arr.append(col)\n",
    "print(arr)"
   ]
  },
  {
   "cell_type": "code",
   "execution_count": null,
   "id": "5c8c72ae",
   "metadata": {},
   "outputs": [],
   "source": []
  },
  {
   "cell_type": "code",
   "execution_count": null,
   "id": "755fe2c6",
   "metadata": {},
   "outputs": [],
   "source": []
  },
  {
   "cell_type": "code",
   "execution_count": 4,
   "id": "b4642395",
   "metadata": {},
   "outputs": [],
   "source": [
    "n = 1\n",
    "for i in range(n):\n",
    "    j=1\n",
    "#     print('i',i)\n",
    "    while j<= i**2:\n",
    "        j += 1\n",
    "        for k in range(n//2):\n",
    "            print('time', i, j, k)\n",
    "    #time complexity question"
   ]
  },
  {
   "cell_type": "code",
   "execution_count": 17,
   "id": "3c0ab1ad",
   "metadata": {},
   "outputs": [
    {
     "name": "stdout",
     "output_type": "stream",
     "text": [
      "[1, 0, 0, 0, 0]\n",
      "[0, 0, 0, 0, 0]\n",
      "[0, 0, 0, 0, 0]\n",
      "[0, 0, 0, 0, 0]\n",
      "[0, 0, 0, 0, 0]\n"
     ]
    }
   ],
   "source": [
    "rows, cols = (5,5)\n",
    "\n",
    "arr1 = [[0]*cols]*rows\n",
    "arr[0][0] = 1\n",
    "\n",
    "for row in arr:\n",
    "    print(row)\n"
   ]
  },
  {
   "cell_type": "code",
   "execution_count": 18,
   "id": "570aee23",
   "metadata": {},
   "outputs": [
    {
     "name": "stdout",
     "output_type": "stream",
     "text": [
      "[1, 0, 0, 0, 0]\n",
      "[0, 0, 0, 0, 0]\n",
      "[0, 0, 0, 0, 0]\n",
      "[0, 0, 0, 0, 0]\n",
      "[0, 0, 0, 0, 0]\n"
     ]
    }
   ],
   "source": [
    "arr2 = [[0 for i in range(cols)] for j in range(rows) ]\n",
    "# print(arr)\n",
    "arr[0][0] = 1\n",
    "for row in arr:\n",
    "    print(row)"
   ]
  },
  {
   "cell_type": "code",
   "execution_count": 19,
   "id": "0d572ef9",
   "metadata": {},
   "outputs": [
    {
     "data": {
      "text/plain": [
       "False"
      ]
     },
     "execution_count": 19,
     "metadata": {},
     "output_type": "execute_result"
    }
   ],
   "source": [
    "arr1 is arr2"
   ]
  },
  {
   "cell_type": "code",
   "execution_count": null,
   "id": "611c390b",
   "metadata": {},
   "outputs": [],
   "source": []
  }
 ],
 "metadata": {
  "kernelspec": {
   "display_name": "Python 3 (ipykernel)",
   "language": "python",
   "name": "python3"
  },
  "language_info": {
   "codemirror_mode": {
    "name": "ipython",
    "version": 3
   },
   "file_extension": ".py",
   "mimetype": "text/x-python",
   "name": "python",
   "nbconvert_exporter": "python",
   "pygments_lexer": "ipython3",
   "version": "3.9.6"
  }
 },
 "nbformat": 4,
 "nbformat_minor": 5
}
