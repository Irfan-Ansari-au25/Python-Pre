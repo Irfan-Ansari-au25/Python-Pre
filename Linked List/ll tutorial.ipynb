{
 "cells": [
  {
   "cell_type": "code",
   "execution_count": 1,
   "id": "b710c928",
   "metadata": {},
   "outputs": [],
   "source": [
    "# code for making node\n",
    "\n",
    "class Node():\n",
    "    def __init__(self,val):\n",
    "        self.data = val\n",
    "        self.next = None\n",
    "        \n",
    "# object, to call a class we have to make an object,\n",
    "# while making an object constructor is aoutomatically called\n",
    "\n",
    "\n",
    "# head = Node(2)\n",
    "# print(head.data,end=' --> ')\n",
    "# head.next = Node(5)\n",
    "# print(head.next.data,end=' --> ')\n",
    "# # print(head.next.next)    #None\n",
    "# head.next.next = Node(7)\n",
    "# print(head.next.next.data)\n",
    "# print(head.next.next.next)\n"
   ]
  },
  {
   "cell_type": "code",
   "execution_count": 2,
   "id": "7f6ab3f8",
   "metadata": {},
   "outputs": [],
   "source": [
    "# function to add nodes at the end\n",
    "head = None\n",
    "def addNodeToEnd(val):\n",
    "    global head\n",
    "    if head is None:          # It will run once\n",
    "        head = Node(val)\n",
    "#         print(head.data,'head')\n",
    "    else:\n",
    "\n",
    "        cur = head\n",
    "#         print(cur.data,'two')\n",
    "        while cur.next != None:\n",
    "#             print(cur.data,'while loop')\n",
    "            cur = cur.next\n",
    "        cur.next = Node(val)\n",
    "#         print(cur.next.data)       #7\n",
    "\n",
    "\n",
    "\n",
    "addNodeToEnd(2)\n",
    "addNodeToEnd(5)\n",
    "addNodeToEnd(7)\n",
    "# print(head.next.next)\n",
    "        \n",
    "    \n",
    "\n",
    "        \n"
   ]
  },
  {
   "cell_type": "code",
   "execution_count": 3,
   "id": "98380c7e",
   "metadata": {},
   "outputs": [
    {
     "name": "stdout",
     "output_type": "stream",
     "text": [
      "2\n",
      "5\n",
      "7\n"
     ]
    }
   ],
   "source": [
    "# function to print each nodes of ll\n",
    "\n",
    "def printNodes(h):\n",
    "    cur = h\n",
    "    if h is None:\n",
    "        return 'No head is found'\n",
    "\n",
    "    else:\n",
    "        while cur.next is not None:\n",
    "            print (cur.data)\n",
    "            cur = cur.next\n",
    "        print(cur.data)\n",
    "        \n",
    "printNodes(head)"
   ]
  },
  {
   "cell_type": "code",
   "execution_count": 4,
   "id": "18ee46a1",
   "metadata": {},
   "outputs": [
    {
     "name": "stdout",
     "output_type": "stream",
     "text": [
      "5\n",
      "7\n"
     ]
    }
   ],
   "source": [
    "# print(head.data)\n",
    "head = head.next\n",
    "# print(head.data)\n",
    "printNodes(head)"
   ]
  },
  {
   "cell_type": "code",
   "execution_count": 17,
   "id": "f7e42f4f",
   "metadata": {},
   "outputs": [
    {
     "name": "stdout",
     "output_type": "stream",
     "text": [
      "5\n"
     ]
    }
   ],
   "source": [
    "# convert binary to decimal\n",
    "\n",
    "s = '101'\n",
    "\n",
    "s = s[::-1]\n",
    "sum = 0\n",
    "for i in range(len(s)): # 3-> i = 0 1 2\n",
    "    x = int(s[i]) * (2**i)\n",
    "    sum += x\n",
    "print(sum)"
   ]
  },
  {
   "cell_type": "code",
   "execution_count": 21,
   "id": "be53366a",
   "metadata": {},
   "outputs": [
    {
     "name": "stdout",
     "output_type": "stream",
     "text": [
      "45\n",
      "101101\n"
     ]
    }
   ],
   "source": [
    "# inbuilt function, to covert binary to decimal and dec to bin\n",
    "\n",
    "new_str = '101101'\n",
    "print(int(new_str,2))\n",
    "print(int(bin(45)[2:]))"
   ]
  },
  {
   "cell_type": "code",
   "execution_count": null,
   "id": "ad0b000f",
   "metadata": {},
   "outputs": [],
   "source": []
  }
 ],
 "metadata": {
  "kernelspec": {
   "display_name": "Python 3 (ipykernel)",
   "language": "python",
   "name": "python3"
  },
  "language_info": {
   "codemirror_mode": {
    "name": "ipython",
    "version": 3
   },
   "file_extension": ".py",
   "mimetype": "text/x-python",
   "name": "python",
   "nbconvert_exporter": "python",
   "pygments_lexer": "ipython3",
   "version": "3.9.6"
  }
 },
 "nbformat": 4,
 "nbformat_minor": 5
}
