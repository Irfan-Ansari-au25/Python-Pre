{
 "cells": [
  {
   "cell_type": "code",
   "execution_count": 2,
   "id": "c95f6137",
   "metadata": {},
   "outputs": [
    {
     "data": {
      "text/plain": [
       "'\\nQ-1 ) Write a program to remove first node from a linked list: (5 marks)\\n(Super Easy)\\nExample 1:\\nInput(elements in linked list) 2\\n5\\n6\\n8\\n3\\nOutput(elements after removing head of the linked list) 5\\n6\\n8\\n3\\n'"
      ]
     },
     "execution_count": 2,
     "metadata": {},
     "output_type": "execute_result"
    }
   ],
   "source": [
    "\"\"\"\n",
    "Q-1 ) Write a program to remove first node from a linked list: (5 marks)\n",
    "(Super Easy)\n",
    "Example 1:\n",
    "Input(elements in linked list) 2\n",
    "5\n",
    "6\n",
    "8\n",
    "3\n",
    "Output(elements after removing head of the linked list) 5\n",
    "6\n",
    "8\n",
    "3\n",
    "\"\"\""
   ]
  },
  {
   "cell_type": "code",
   "execution_count": 38,
   "id": "a74a0b79",
   "metadata": {},
   "outputs": [
    {
     "name": "stdout",
     "output_type": "stream",
     "text": [
      "3\n"
     ]
    }
   ],
   "source": [
    "class Node():\n",
    "    def __init__(self,val):\n",
    "        self.data = val\n",
    "        self.next = None\n",
    "\n",
    "head = Node(5)\n",
    "head.next = Node(6)\n",
    "head.next.next = Node(8)\n",
    "head.next.next.next = Node(3)\n",
    "print(head.next.next.next.data)"
   ]
  },
  {
   "cell_type": "code",
   "execution_count": 39,
   "id": "650714a7",
   "metadata": {},
   "outputs": [
    {
     "name": "stdout",
     "output_type": "stream",
     "text": [
      "6 8 3 None\n"
     ]
    }
   ],
   "source": [
    "def removeNode(h):\n",
    "    h = h.next\n",
    "    \n",
    "    print(h.data,h.next.data,h.next.next.data,h.next.next.next)\n",
    "    return h\n",
    "new_head = removeNode(head)\n",
    "\n",
    "    "
   ]
  },
  {
   "cell_type": "code",
   "execution_count": 41,
   "id": "6f7810fc",
   "metadata": {},
   "outputs": [
    {
     "name": "stdout",
     "output_type": "stream",
     "text": [
      "427\n"
     ]
    }
   ],
   "source": [
    "# count no of matches played between two teams :\n",
    "\n",
    "n = 8\n",
    "def countMatch(n):\n",
    "    match = 0\n",
    "    if n%2 == 0:\n",
    "        while n != 2:\n",
    "            n = n//2\n",
    "            print(n,end='')\n",
    "            match += n\n",
    "        return (match+1)\n",
    "    else:\n",
    "        return n-1\n",
    "print(countMatch(n))\n"
   ]
  },
  {
   "cell_type": "code",
   "execution_count": null,
   "id": "1ac179d8",
   "metadata": {},
   "outputs": [],
   "source": [
    "class Node():\n",
    "    def __init__(self,val):\n",
    "        self.data = val\n",
    "        self.next = None"
   ]
  }
 ],
 "metadata": {
  "kernelspec": {
   "display_name": "Python 3 (ipykernel)",
   "language": "python",
   "name": "python3"
  },
  "language_info": {
   "codemirror_mode": {
    "name": "ipython",
    "version": 3
   },
   "file_extension": ".py",
   "mimetype": "text/x-python",
   "name": "python",
   "nbconvert_exporter": "python",
   "pygments_lexer": "ipython3",
   "version": "3.9.6"
  }
 },
 "nbformat": 4,
 "nbformat_minor": 5
}
