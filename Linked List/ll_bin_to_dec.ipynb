{
 "cells": [
  {
   "cell_type": "code",
   "execution_count": 31,
   "id": "efbaaadd",
   "metadata": {},
   "outputs": [
    {
     "data": {
      "text/plain": [
       "5"
      ]
     },
     "execution_count": 31,
     "metadata": {},
     "output_type": "execute_result"
    }
   ],
   "source": [
    "# Input: head = [1,0,1]\n",
    "\n",
    "class Node():\n",
    "    def __init__(self,val):\n",
    "        self.data = val\n",
    "        self.next = None\n",
    "\n",
    "head = Node(1)\n",
    "head.next = Node(0)\n",
    "head.next.next = Node(1)\n",
    "# print(head.next.data)\n",
    "\n",
    "\n",
    "class Solution:\n",
    "    def getDecimalValue(self, head):\n",
    "        s = ''\n",
    "        cur = head\n",
    "        while cur.next is not None:\n",
    "            s += str(cur.data)\n",
    "#             print(cur.data)\n",
    "            cur = cur.next\n",
    "        s += str(cur.data)\n",
    "        return int(s,2)\n",
    "    \n",
    "sol = Solution()\n",
    "sol.getDecimalValue(head)"
   ]
  },
  {
   "cell_type": "code",
   "execution_count": 28,
   "id": "bfe5df15",
   "metadata": {},
   "outputs": [
    {
     "name": "stdout",
     "output_type": "stream",
     "text": [
      "5\n"
     ]
    }
   ],
   "source": [
    "# built in binary to decimal\n",
    "\n",
    "binary = \"101\"        # string\n",
    "print(int(binary,2))"
   ]
  },
  {
   "cell_type": "code",
   "execution_count": null,
   "id": "edb8ac6a",
   "metadata": {},
   "outputs": [],
   "source": []
  },
  {
   "cell_type": "code",
   "execution_count": null,
   "id": "a0133866",
   "metadata": {},
   "outputs": [],
   "source": []
  }
 ],
 "metadata": {
  "kernelspec": {
   "display_name": "Python 3 (ipykernel)",
   "language": "python",
   "name": "python3"
  },
  "language_info": {
   "codemirror_mode": {
    "name": "ipython",
    "version": 3
   },
   "file_extension": ".py",
   "mimetype": "text/x-python",
   "name": "python",
   "nbconvert_exporter": "python",
   "pygments_lexer": "ipython3",
   "version": "3.9.6"
  }
 },
 "nbformat": 4,
 "nbformat_minor": 5
}
