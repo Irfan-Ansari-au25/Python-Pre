{
 "cells": [
  {
   "cell_type": "code",
   "execution_count": 13,
   "id": "6092e55a",
   "metadata": {},
   "outputs": [
    {
     "name": "stdout",
     "output_type": "stream",
     "text": [
      "<__main__.Node object at 0x104620640>\n"
     ]
    }
   ],
   "source": [
    "# Create a node of linked list\n",
    "\n",
    "class Node:\n",
    "    def __init__(self,val):\n",
    "        self.val = val\n",
    "        self.next = None\n",
    "\n",
    "head = Node(3)\n",
    "head.next = Node(5)\n",
    "head.next.next = Node(7)\n",
    "head.next.next.next = Node(9)\n",
    "head.next.next.next.next = Node(11)\n",
    "print(head)\n"
   ]
  },
  {
   "cell_type": "code",
   "execution_count": 14,
   "id": "1762711e",
   "metadata": {},
   "outputs": [
    {
     "name": "stdout",
     "output_type": "stream",
     "text": [
      "3\n",
      "5\n",
      "7\n",
      "9\n",
      "11\n"
     ]
    }
   ],
   "source": [
    "# print all nodes in linked list\n",
    "\n",
    "def printNodes(head):\n",
    "    while head:\n",
    "        print(head.val)\n",
    "        head = head.next\n",
    "printNodes(head)"
   ]
  },
  {
   "cell_type": "code",
   "execution_count": 15,
   "id": "da9bcff4",
   "metadata": {},
   "outputs": [
    {
     "name": "stdout",
     "output_type": "stream",
     "text": [
      "7\n",
      "9\n",
      "11\n"
     ]
    }
   ],
   "source": [
    "# please dry run it bhai\n",
    "def middleNode(head):\n",
    "    slow = head\n",
    "    fast = head\n",
    "    while fast and fast.next != None :\n",
    "        fast = fast.next.next\n",
    "        slow = slow.next\n",
    "    return slow\n",
    "printNodes((middleNode(head)))\n"
   ]
  },
  {
   "cell_type": "code",
   "execution_count": 16,
   "id": "20fa099d",
   "metadata": {},
   "outputs": [
    {
     "name": "stdout",
     "output_type": "stream",
     "text": [
      "ho\n"
     ]
    }
   ],
   "source": [
    "print('ho')"
   ]
  },
  {
   "cell_type": "code",
   "execution_count": 17,
   "id": "316e4e0b",
   "metadata": {},
   "outputs": [
    {
     "data": {
      "text/plain": [
       "[1, 3, 4]"
      ]
     },
     "execution_count": 17,
     "metadata": {},
     "output_type": "execute_result"
    }
   ],
   "source": [
    "l = [1,2,3,4]\n",
    "l.remove(2)\n",
    "l"
   ]
  },
  {
   "cell_type": "code",
   "execution_count": 40,
   "id": "bf61dd06",
   "metadata": {},
   "outputs": [
    {
     "name": "stdout",
     "output_type": "stream",
     "text": [
      "5 len\n",
      "['2', '-', '1', '+', '2'] 5\n",
      "[2, 2] [1]\n",
      "3\n"
     ]
    }
   ],
   "source": [
    "x = \" 2-1 + 2 \"\n",
    "# x = list(x)\n",
    "x = list(\"\".join(x.split()))\n",
    "x1 = list(x)\n",
    "# print(x)\n",
    "# x = ['(', '1', '+', '(', '4', '+', '5', '+', '2', ')', '-', '3', ')', '+', '(', '6', '+', '8', ')']\n",
    "# x1 = ['(', '1', '+', '(', '4', '+', '5', '+', '2', ')', '-', '3', ')', '+', '(', '6', '+', '8', ')']\n",
    "l1 = []\n",
    "l2 = []\n",
    "leng = len(x)\n",
    "print(leng,'len')\n",
    "for j in range(len(x)):# [0 ... 18]\n",
    "    if x[j] == \"(\" or x[j] == \")\":\n",
    "        x1.remove(x[j])\n",
    "print(x1,len(x1))\n",
    "\n",
    "if x1[0] != '-':\n",
    "    l1.append(int(x1[0]))\n",
    "\n",
    "for i in range(len(x1)-1):\n",
    "    if x1[i] == '+':\n",
    "        l1.append(int(x1[i+1]))\n",
    "        \n",
    "    elif x1[i] == '-':\n",
    "        l2.append(int(x1[i+1]))\n",
    "print(l1,l2)\n",
    "ans = sum(l1)- sum(l2)  \n",
    "print(ans)"
   ]
  },
  {
   "cell_type": "code",
   "execution_count": 42,
   "id": "0cd7850c",
   "metadata": {},
   "outputs": [],
   "source": [
    "s = '1+2+3'\n"
   ]
  },
  {
   "cell_type": "code",
   "execution_count": null,
   "id": "ef0b0652",
   "metadata": {},
   "outputs": [],
   "source": []
  }
 ],
 "metadata": {
  "kernelspec": {
   "display_name": "Python 3 (ipykernel)",
   "language": "python",
   "name": "python3"
  },
  "language_info": {
   "codemirror_mode": {
    "name": "ipython",
    "version": 3
   },
   "file_extension": ".py",
   "mimetype": "text/x-python",
   "name": "python",
   "nbconvert_exporter": "python",
   "pygments_lexer": "ipython3",
   "version": "3.9.6"
  }
 },
 "nbformat": 4,
 "nbformat_minor": 5
}
