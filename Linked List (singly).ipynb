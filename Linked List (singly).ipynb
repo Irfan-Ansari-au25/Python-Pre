{
 "cells": [
  {
   "cell_type": "code",
   "execution_count": 1,
   "id": "fe328740",
   "metadata": {},
   "outputs": [],
   "source": [
    "# Singly Linked List\n",
    "# Eg. 1 --> 2 --> 5 --> 6 --> None\n",
    "\n",
    "\n",
    "# It's a class object having data and pointer.\n",
    "# head is basically the linked list\n"
   ]
  },
  {
   "cell_type": "code",
   "execution_count": 2,
   "id": "408e9e9a",
   "metadata": {},
   "outputs": [],
   "source": [
    "# This is how we creat ll in python\n",
    "\n",
    "class Node():\n",
    "    def __init__(self,val):\n",
    "        self.data = val          # Data inside the class\n",
    "        self.next = None\n",
    "\n",
    "# if __name__ == '__main__':\n",
    "#     head = Node(10)              \n",
    "#     print(head.data)\n",
    "#     print(head.next)\n",
    "#     head.next = Node(20)\n",
    "#     print(head.next.data)\n",
    "    \n",
    "            "
   ]
  },
  {
   "cell_type": "code",
   "execution_count": 3,
   "id": "4da790f7",
   "metadata": {},
   "outputs": [],
   "source": [
    "# add elements using function (! using next.next.next)\n",
    "head = None\n",
    "def addNodeToEnd(val):\n",
    "    global head\n",
    "    if head is None:\n",
    "        head = Node(val)\n",
    "    else:\n",
    "        cur = head\n",
    "        while cur.next is not None:\n",
    "            cur= cur.next\n",
    "        cur.next = Node(val)\n",
    "\n",
    "# if __name__ == '__main__':\n",
    "#     addNodeToEnd(10)\n",
    "#     print(head.data)\n",
    "#     addNodeToEnd(20)\n",
    "#     print(head.next.data)\n",
    "#     print(head.next.next)\n",
    "        "
   ]
  },
  {
   "cell_type": "code",
   "execution_count": 4,
   "id": "0899a740",
   "metadata": {},
   "outputs": [
    {
     "name": "stdout",
     "output_type": "stream",
     "text": [
      "20 23 45 78\n"
     ]
    }
   ],
   "source": [
    "# print all the nodes of a ll\n",
    "\n",
    "def printNodes(val):\n",
    "    head = val\n",
    "    if head is None:\n",
    "        return 'Nothing to print'\n",
    "    else:\n",
    "        cur = head\n",
    "        while cur.next is not None:\n",
    "            print(cur.data,end = ' ')\n",
    "            cur = cur.next\n",
    "        print(cur.data)\n",
    "\n",
    "if __name__ == '__main__':\n",
    "#     h1 = Node(12)\n",
    "#     h1.next = Node(15)\n",
    "#     h1.next.next = Node(34)\n",
    "#     print(h1.next.data)\n",
    "#     printNodes(h1)\n",
    "\n",
    "    head=None\n",
    "    addNodeToEnd(20)\n",
    "    addNodeToEnd(23)\n",
    "    addNodeToEnd(45)\n",
    "    addNodeToEnd(78)\n",
    "    printNodes(head)\n",
    "    "
   ]
  },
  {
   "cell_type": "code",
   "execution_count": null,
   "id": "97d6d3cb",
   "metadata": {},
   "outputs": [],
   "source": []
  },
  {
   "cell_type": "code",
   "execution_count": null,
   "id": "70153a01",
   "metadata": {},
   "outputs": [],
   "source": []
  }
 ],
 "metadata": {
  "kernelspec": {
   "display_name": "Python 3 (ipykernel)",
   "language": "python",
   "name": "python3"
  },
  "language_info": {
   "codemirror_mode": {
    "name": "ipython",
    "version": 3
   },
   "file_extension": ".py",
   "mimetype": "text/x-python",
   "name": "python",
   "nbconvert_exporter": "python",
   "pygments_lexer": "ipython3",
   "version": "3.9.6"
  }
 },
 "nbformat": 4,
 "nbformat_minor": 5
}
