{
 "cells": [
  {
   "cell_type": "code",
   "execution_count": 20,
   "id": "0a778d8f",
   "metadata": {},
   "outputs": [
    {
     "name": "stdout",
     "output_type": "stream",
     "text": [
      "[-2]\n",
      "[-2, 33]\n",
      "[-2, 33, 'null']\n",
      "[-2, 33]\n",
      "33\n",
      "-2\n"
     ]
    }
   ],
   "source": [
    "# [1,3,5,6,68]\n",
    "\n",
    "\n",
    "# Input\n",
    "# [\"MinStack\",\"push\",\"push\",\"push\",\"getMin\",\"pop\",\"top\",\"getMin\"]\n",
    "# [[],[-2],[0],[-3],[],[],[],[]]\n",
    "\n",
    "# Output\n",
    "# [null,null,null,null,-3,null,0,-2]\n",
    "\n",
    "\n",
    "class MinStack():\n",
    "    def __init__(self):\n",
    "        self.stack = list()\n",
    "#         print(self.stack)\n",
    "        \n",
    "    def push(self,x):\n",
    "        self.stack.append(x)\n",
    "        return self.stack\n",
    "    \n",
    "    def pop(self):\n",
    "        self.stack.pop()\n",
    "        return self.stack\n",
    "    \n",
    "    \n",
    "    def top(self):\n",
    "        return self.stack[-1]\n",
    "        \n",
    "    \n",
    "    def getMin(self):\n",
    "        return min(self.stack)\n",
    " \n",
    "    \n",
    "if __name__ == '__main__':\n",
    "    sol = MinStack()\n",
    "    print(sol.push(-2))\n",
    "    print(sol.push(33))\n",
    "    print(sol.push('null'))\n",
    "    print(sol.pop())\n",
    "    print(sol.top())\n",
    "    print(sol.getMin())\n",
    "    \n",
    "    \n",
    "    \n",
    "        \n",
    "    "
   ]
  },
  {
   "cell_type": "code",
   "execution_count": null,
   "id": "3e0bfac0",
   "metadata": {},
   "outputs": [],
   "source": []
  }
 ],
 "metadata": {
  "kernelspec": {
   "display_name": "Python 3 (ipykernel)",
   "language": "python",
   "name": "python3"
  },
  "language_info": {
   "codemirror_mode": {
    "name": "ipython",
    "version": 3
   },
   "file_extension": ".py",
   "mimetype": "text/x-python",
   "name": "python",
   "nbconvert_exporter": "python",
   "pygments_lexer": "ipython3",
   "version": "3.9.6"
  }
 },
 "nbformat": 4,
 "nbformat_minor": 5
}
