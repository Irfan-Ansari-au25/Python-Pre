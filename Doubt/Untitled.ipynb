{
 "cells": [
  {
   "cell_type": "code",
   "execution_count": 6,
   "id": "29bfb929",
   "metadata": {},
   "outputs": [
    {
     "name": "stdout",
     "output_type": "stream",
     "text": [
      "{1: 1, 4: 1, 5: 1, 6: 2, 6907: 1, 8: 1, 98: 1}\n"
     ]
    }
   ],
   "source": [
    "A = [1,4,5,6,6,6907,8,98]\n",
    "d = {}\n",
    "for i in range(len(A)):# 0 1 2 3 4 5 6 7 \n",
    "    if A[i] not in d:            ## A\n",
    "        d[A[i]] = 1\n",
    "    else:\n",
    "        d[A[i]] += 1\n",
    "print(d)"
   ]
  },
  {
   "cell_type": "code",
   "execution_count": 7,
   "id": "b7b1e414",
   "metadata": {},
   "outputs": [
    {
     "name": "stdout",
     "output_type": "stream",
     "text": [
      "[1, 4, 5, 6, 6, 6907, 8, 98]\n"
     ]
    }
   ],
   "source": [
    "print(A)"
   ]
  },
  {
   "cell_type": "code",
   "execution_count": 9,
   "id": "d155ddea",
   "metadata": {},
   "outputs": [
    {
     "name": "stdout",
     "output_type": "stream",
     "text": [
      "1\n"
     ]
    }
   ],
   "source": [
    "print(A[0])"
   ]
  },
  {
   "cell_type": "code",
   "execution_count": 10,
   "id": "271ee206",
   "metadata": {},
   "outputs": [],
   "source": [
    "p = {}\n"
   ]
  },
  {
   "cell_type": "code",
   "execution_count": 11,
   "id": "d5fe187d",
   "metadata": {},
   "outputs": [],
   "source": [
    "p[2] = 'val'"
   ]
  },
  {
   "cell_type": "code",
   "execution_count": 14,
   "id": "f8a88b66",
   "metadata": {},
   "outputs": [
    {
     "data": {
      "text/plain": [
       "{2: 'val', 4: 4}"
      ]
     },
     "execution_count": 14,
     "metadata": {},
     "output_type": "execute_result"
    }
   ],
   "source": [
    "p[A[1]] = A[1]\n",
    "p"
   ]
  },
  {
   "cell_type": "code",
   "execution_count": null,
   "id": "3aaca083",
   "metadata": {},
   "outputs": [],
   "source": [
    "# "
   ]
  }
 ],
 "metadata": {
  "kernelspec": {
   "display_name": "Python 3 (ipykernel)",
   "language": "python",
   "name": "python3"
  },
  "language_info": {
   "codemirror_mode": {
    "name": "ipython",
    "version": 3
   },
   "file_extension": ".py",
   "mimetype": "text/x-python",
   "name": "python",
   "nbconvert_exporter": "python",
   "pygments_lexer": "ipython3",
   "version": "3.9.6"
  }
 },
 "nbformat": 4,
 "nbformat_minor": 5
}
