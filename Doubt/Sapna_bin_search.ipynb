{
 "cells": [
  {
   "cell_type": "code",
   "execution_count": 4,
   "id": "356cdb9a",
   "metadata": {},
   "outputs": [
    {
     "name": "stdout",
     "output_type": "stream",
     "text": [
      "hi\n"
     ]
    }
   ],
   "source": [
    "print('hi')"
   ]
  },
  {
   "cell_type": "code",
   "execution_count": 3,
   "id": "8aaa4eee",
   "metadata": {},
   "outputs": [
    {
     "name": "stdout",
     "output_type": "stream",
     "text": [
      "9\n"
     ]
    }
   ],
   "source": [
    "# binary search                              l         m                r\n",
    "#  1. Array should be sorted                 0 1 2 3 4 5 6. 7. 8. 9  10 11\n",
    "#                                        A = 1 3 4 5 7 9 12 32 45 67 87 98  check target > mid, 2. ignore half side\n",
    "# mid == target , return\n",
    "# sample space // 2 : t(n)->log(n), S(n):0(1)\n",
    "\n",
    "# A = len(n) -- A.sort() t(n):nlog(n)\n",
    "\n",
    "A = []\n",
    "\n",
    "\n",
    "def bin_search(A,target):\n",
    "    l = 0\n",
    "    r = len(A)\n",
    "    \n",
    "    while l<=r:\n",
    "        mid = (l+r)//2\n",
    "\n",
    "        if target == A[mid]:\n",
    "            return mid\n",
    "\n",
    "        elif target>A[mid]:  # code for ignore\n",
    "            l = mid+1\n",
    "        else:\n",
    "            r = mid-1 \n",
    "    \n",
    "if __name__ == '__main__':\n",
    "    A = [1, 3, 4 ,5 ,7 ,9 ,12 ,32, 45 ,67, 87 ,98]\n",
    "    target = 67\n",
    "    print(bin_search(A,target))\n"
   ]
  },
  {
   "cell_type": "code",
   "execution_count": null,
   "id": "7b389396",
   "metadata": {},
   "outputs": [],
   "source": []
  }
 ],
 "metadata": {
  "kernelspec": {
   "display_name": "Python 3 (ipykernel)",
   "language": "python",
   "name": "python3"
  },
  "language_info": {
   "codemirror_mode": {
    "name": "ipython",
    "version": 3
   },
   "file_extension": ".py",
   "mimetype": "text/x-python",
   "name": "python",
   "nbconvert_exporter": "python",
   "pygments_lexer": "ipython3",
   "version": "3.9.6"
  }
 },
 "nbformat": 4,
 "nbformat_minor": 5
}
